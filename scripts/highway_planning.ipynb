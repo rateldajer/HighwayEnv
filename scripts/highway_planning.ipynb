{
 "cells": [
  {
   "cell_type": "markdown",
   "metadata": {
    "id": "QKWvMXWMBEJA"
   },
   "source": [
    "# Behavioural Planning for Autonomous Highway Driving\n",
    "\n",
    "We plan a trajectory using the _Optimistic Planning for Deterministic systems_ ([OPD](https://hal.inria.fr/hal-00830182)) algorithm.\n"
   ]
  },
  {
   "cell_type": "code",
   "execution_count": null,
   "metadata": {
    "id": "s-ghXis6A_md"
   },
   "outputs": [
    {
     "name": "stdout",
     "output_type": "stream",
     "text": [
      "Requirement already satisfied: highway-env in /Users/mcrowley/opt/miniconda3/envs/rlgym/lib/python3.9/site-packages (1.8.2)\n",
      "Requirement already satisfied: gymnasium>=0.27 in /Users/mcrowley/opt/miniconda3/envs/rlgym/lib/python3.9/site-packages (from highway-env) (0.28.1)\n",
      "Requirement already satisfied: numpy in /Users/mcrowley/opt/miniconda3/envs/rlgym/lib/python3.9/site-packages (from highway-env) (1.24.3)\n",
      "Requirement already satisfied: pygame>=2.0.2 in /Users/mcrowley/.local/lib/python3.9/site-packages (from highway-env) (2.4.0)\n",
      "Requirement already satisfied: matplotlib in /Users/mcrowley/opt/miniconda3/envs/rlgym/lib/python3.9/site-packages (from highway-env) (3.7.1)\n",
      "Requirement already satisfied: pandas in /Users/mcrowley/opt/miniconda3/envs/rlgym/lib/python3.9/site-packages (from highway-env) (2.0.2)\n",
      "Requirement already satisfied: scipy in /Users/mcrowley/opt/miniconda3/envs/rlgym/lib/python3.9/site-packages (from highway-env) (1.10.1)\n",
      "Requirement already satisfied: jax-jumpy>=1.0.0 in /Users/mcrowley/opt/miniconda3/envs/rlgym/lib/python3.9/site-packages (from gymnasium>=0.27->highway-env) (1.0.0)\n",
      "Requirement already satisfied: cloudpickle>=1.2.0 in /Users/mcrowley/opt/miniconda3/envs/rlgym/lib/python3.9/site-packages (from gymnasium>=0.27->highway-env) (2.2.1)\n",
      "Requirement already satisfied: typing-extensions>=4.3.0 in /Users/mcrowley/opt/miniconda3/envs/rlgym/lib/python3.9/site-packages (from gymnasium>=0.27->highway-env) (4.6.3)\n",
      "Requirement already satisfied: farama-notifications>=0.0.1 in /Users/mcrowley/opt/miniconda3/envs/rlgym/lib/python3.9/site-packages (from gymnasium>=0.27->highway-env) (0.0.4)\n",
      "Requirement already satisfied: importlib-metadata>=4.8.0 in /Users/mcrowley/opt/miniconda3/envs/rlgym/lib/python3.9/site-packages (from gymnasium>=0.27->highway-env) (6.0.0)\n",
      "Requirement already satisfied: contourpy>=1.0.1 in /Users/mcrowley/opt/miniconda3/envs/rlgym/lib/python3.9/site-packages (from matplotlib->highway-env) (1.1.0)\n",
      "Requirement already satisfied: cycler>=0.10 in /Users/mcrowley/opt/miniconda3/envs/rlgym/lib/python3.9/site-packages (from matplotlib->highway-env) (0.11.0)\n",
      "Requirement already satisfied: fonttools>=4.22.0 in /Users/mcrowley/opt/miniconda3/envs/rlgym/lib/python3.9/site-packages (from matplotlib->highway-env) (4.40.0)\n",
      "Requirement already satisfied: kiwisolver>=1.0.1 in /Users/mcrowley/opt/miniconda3/envs/rlgym/lib/python3.9/site-packages (from matplotlib->highway-env) (1.4.4)\n",
      "Requirement already satisfied: packaging>=20.0 in /Users/mcrowley/opt/miniconda3/envs/rlgym/lib/python3.9/site-packages (from matplotlib->highway-env) (23.0)\n",
      "Requirement already satisfied: pillow>=6.2.0 in /Users/mcrowley/opt/miniconda3/envs/rlgym/lib/python3.9/site-packages (from matplotlib->highway-env) (9.5.0)\n",
      "Requirement already satisfied: pyparsing>=2.3.1 in /Users/mcrowley/opt/miniconda3/envs/rlgym/lib/python3.9/site-packages (from matplotlib->highway-env) (3.0.9)\n",
      "Requirement already satisfied: python-dateutil>=2.7 in /Users/mcrowley/opt/miniconda3/envs/rlgym/lib/python3.9/site-packages (from matplotlib->highway-env) (2.8.2)\n",
      "Requirement already satisfied: importlib-resources>=3.2.0 in /Users/mcrowley/opt/miniconda3/envs/rlgym/lib/python3.9/site-packages (from matplotlib->highway-env) (5.12.0)\n",
      "Requirement already satisfied: pytz>=2020.1 in /Users/mcrowley/opt/miniconda3/envs/rlgym/lib/python3.9/site-packages (from pandas->highway-env) (2022.7)\n",
      "Requirement already satisfied: tzdata>=2022.1 in /Users/mcrowley/opt/miniconda3/envs/rlgym/lib/python3.9/site-packages (from pandas->highway-env) (2023.3)\n",
      "Requirement already satisfied: zipp>=0.5 in /Users/mcrowley/opt/miniconda3/envs/rlgym/lib/python3.9/site-packages (from importlib-metadata>=4.8.0->gymnasium>=0.27->highway-env) (3.11.0)\n",
      "Requirement already satisfied: six>=1.5 in /Users/mcrowley/opt/miniconda3/envs/rlgym/lib/python3.9/site-packages (from python-dateutil>=2.7->matplotlib->highway-env) (1.16.0)\n"
     ]
    }
   ],
   "source": [
    "#@title Imports for env, agent, and visualisation.\n",
    "# Environment\n",
    "!pip install highway-env\n",
    "import gymnasium as gym\n",
    "import highway_env\n",
    "\n",
    "# Agent\n",
    "!pip install git+https://github.com/eleurent/rl-agents#egg=rl-agents\n",
    "from rl_agents.agents.common.factory import agent_factory\n",
    "\n",
    "# Visualisation\n",
    "import sys\n",
    "from tqdm.notebook import trange\n",
    "!pip install moviepy -U\n",
    "!pip install imageio_ffmpeg\n",
    "!pip install pyvirtualdisplay\n",
    "!apt-get install -y xvfb python-opengl ffmpeg\n",
    "# !git clone https://github.com/eleurent/highway-env.git\n",
    "sys.path.insert(0, './highway-env/scripts/')\n",
    "from utils import record_videos, show_videos\n"
   ]
  },
  {
   "cell_type": "code",
   "execution_count": null,
   "metadata": {
    "id": "bgNDDWwqCj8l"
   },
   "outputs": [],
   "source": [
    "#@title Run an episode\n",
    "\n",
    "# Make environment\n",
    "env = gym.make(\"highway-fast-v0\", render_mode=\"rgb_array\")\n",
    "env = record_videos(env)\n",
    "(obs, info), done = env.reset(), False\n",
    "\n",
    "# Make agent\n",
    "agent_config = {\n",
    "    \"__class__\": \"<class 'rl_agents.agents.tree_search.deterministic.DeterministicPlannerAgent'>\",\n",
    "    \"env_preprocessors\": [{\"method\":\"simplify\"}],\n",
    "    \"budget\": 50,\n",
    "    \"gamma\": 0.7,\n",
    "}\n",
    "agent = agent_factory(env, agent_config)\n",
    "\n",
    "# Run episode\n",
    "for step in trange(env.unwrapped.config[\"duration\"], desc=\"Running...\"):\n",
    "    action = agent.act(obs)\n",
    "    obs, reward, done, truncated, info = env.step(action)\n",
    "    \n",
    "env.close()\n",
    "show_videos()"
   ]
  }
 ],
 "metadata": {
  "colab": {
   "name": "highway-planning.ipynb",
   "provenance": []
  },
  "kernelspec": {
   "display_name": "Python 3 (ipykernel)",
   "language": "python",
   "name": "python3"
  },
  "language_info": {
   "codemirror_mode": {
    "name": "ipython",
    "version": 3
   },
   "file_extension": ".py",
   "mimetype": "text/x-python",
   "name": "python",
   "nbconvert_exporter": "python",
   "pygments_lexer": "ipython3",
   "version": "3.9.16"
  },
  "pycharm": {
   "stem_cell": {
    "cell_type": "raw",
    "metadata": {
     "collapsed": false
    },
    "source": []
   }
  }
 },
 "nbformat": 4,
 "nbformat_minor": 1
}
