{
 "cells": [
  {
   "cell_type": "markdown",
   "metadata": {
    "id": "5eeje4O8fviH",
    "pycharm": {
     "name": "#%% md\n"
    }
   },
   "source": [
    "# Highway with SB3's DQN\n",
    "\n",
    "##  Warming up\n",
    "We start with a few useful installs and imports:"
   ]
  },
  {
   "cell_type": "code",
   "execution_count": 1,
   "metadata": {
    "id": "bzMSuJEOfviP",
    "pycharm": {
     "is_executing": false,
     "name": "#%%\n"
    },
    "tags": []
   },
   "outputs": [
    {
     "name": "stdout",
     "output_type": "stream",
     "text": [
      "Requirement already satisfied: highway-env in /Users/mcrowley/opt/miniconda3/envs/rlgym/lib/python3.9/site-packages (1.8.2)\n",
      "Requirement already satisfied: gymnasium>=0.27 in /Users/mcrowley/opt/miniconda3/envs/rlgym/lib/python3.9/site-packages (from highway-env) (0.28.1)\n",
      "Requirement already satisfied: numpy in /Users/mcrowley/opt/miniconda3/envs/rlgym/lib/python3.9/site-packages (from highway-env) (1.24.3)\n",
      "Requirement already satisfied: pygame>=2.0.2 in /Users/mcrowley/.local/lib/python3.9/site-packages (from highway-env) (2.4.0)\n",
      "Requirement already satisfied: matplotlib in /Users/mcrowley/opt/miniconda3/envs/rlgym/lib/python3.9/site-packages (from highway-env) (3.7.1)\n",
      "Requirement already satisfied: pandas in /Users/mcrowley/opt/miniconda3/envs/rlgym/lib/python3.9/site-packages (from highway-env) (2.0.2)\n",
      "Requirement already satisfied: scipy in /Users/mcrowley/opt/miniconda3/envs/rlgym/lib/python3.9/site-packages (from highway-env) (1.10.1)\n",
      "Requirement already satisfied: jax-jumpy>=1.0.0 in /Users/mcrowley/opt/miniconda3/envs/rlgym/lib/python3.9/site-packages (from gymnasium>=0.27->highway-env) (1.0.0)\n",
      "Requirement already satisfied: cloudpickle>=1.2.0 in /Users/mcrowley/opt/miniconda3/envs/rlgym/lib/python3.9/site-packages (from gymnasium>=0.27->highway-env) (2.2.1)\n",
      "Requirement already satisfied: typing-extensions>=4.3.0 in /Users/mcrowley/opt/miniconda3/envs/rlgym/lib/python3.9/site-packages (from gymnasium>=0.27->highway-env) (4.6.3)\n",
      "Requirement already satisfied: farama-notifications>=0.0.1 in /Users/mcrowley/opt/miniconda3/envs/rlgym/lib/python3.9/site-packages (from gymnasium>=0.27->highway-env) (0.0.4)\n",
      "Requirement already satisfied: importlib-metadata>=4.8.0 in /Users/mcrowley/opt/miniconda3/envs/rlgym/lib/python3.9/site-packages (from gymnasium>=0.27->highway-env) (6.0.0)\n",
      "Requirement already satisfied: contourpy>=1.0.1 in /Users/mcrowley/opt/miniconda3/envs/rlgym/lib/python3.9/site-packages (from matplotlib->highway-env) (1.1.0)\n",
      "Requirement already satisfied: cycler>=0.10 in /Users/mcrowley/opt/miniconda3/envs/rlgym/lib/python3.9/site-packages (from matplotlib->highway-env) (0.11.0)\n",
      "Requirement already satisfied: fonttools>=4.22.0 in /Users/mcrowley/opt/miniconda3/envs/rlgym/lib/python3.9/site-packages (from matplotlib->highway-env) (4.40.0)\n",
      "Requirement already satisfied: kiwisolver>=1.0.1 in /Users/mcrowley/opt/miniconda3/envs/rlgym/lib/python3.9/site-packages (from matplotlib->highway-env) (1.4.4)\n",
      "Requirement already satisfied: packaging>=20.0 in /Users/mcrowley/opt/miniconda3/envs/rlgym/lib/python3.9/site-packages (from matplotlib->highway-env) (23.0)\n",
      "Requirement already satisfied: pillow>=6.2.0 in /Users/mcrowley/opt/miniconda3/envs/rlgym/lib/python3.9/site-packages (from matplotlib->highway-env) (9.5.0)\n",
      "Requirement already satisfied: pyparsing>=2.3.1 in /Users/mcrowley/opt/miniconda3/envs/rlgym/lib/python3.9/site-packages (from matplotlib->highway-env) (3.0.9)\n",
      "Requirement already satisfied: python-dateutil>=2.7 in /Users/mcrowley/opt/miniconda3/envs/rlgym/lib/python3.9/site-packages (from matplotlib->highway-env) (2.8.2)\n",
      "Requirement already satisfied: importlib-resources>=3.2.0 in /Users/mcrowley/opt/miniconda3/envs/rlgym/lib/python3.9/site-packages (from matplotlib->highway-env) (5.12.0)\n",
      "Requirement already satisfied: pytz>=2020.1 in /Users/mcrowley/opt/miniconda3/envs/rlgym/lib/python3.9/site-packages (from pandas->highway-env) (2022.7)\n",
      "Requirement already satisfied: tzdata>=2022.1 in /Users/mcrowley/opt/miniconda3/envs/rlgym/lib/python3.9/site-packages (from pandas->highway-env) (2023.3)\n",
      "Requirement already satisfied: zipp>=0.5 in /Users/mcrowley/opt/miniconda3/envs/rlgym/lib/python3.9/site-packages (from importlib-metadata>=4.8.0->gymnasium>=0.27->highway-env) (3.11.0)\n",
      "Requirement already satisfied: six>=1.5 in /Users/mcrowley/opt/miniconda3/envs/rlgym/lib/python3.9/site-packages (from python-dateutil>=2.7->matplotlib->highway-env) (1.16.0)\n",
      "Collecting git+https://github.com/DLR-RM/stable-baselines3\n",
      "  Cloning https://github.com/DLR-RM/stable-baselines3 to /private/var/folders/rl/xr8322ms0cl2k1dzqvb3p2980000gn/T/pip-req-build-qa1j0b1c\n",
      "  Running command git clone --filter=blob:none --quiet https://github.com/DLR-RM/stable-baselines3 /private/var/folders/rl/xr8322ms0cl2k1dzqvb3p2980000gn/T/pip-req-build-qa1j0b1c\n",
      "  Resolved https://github.com/DLR-RM/stable-baselines3 to commit ffe26ccf95d7e3b37067bd81025d3b4b45825038\n",
      "  Installing build dependencies ... \u001b[?25ldone\n",
      "\u001b[?25h  Getting requirements to build wheel ... \u001b[?25ldone\n",
      "\u001b[?25h  Preparing metadata (pyproject.toml) ... \u001b[?25ldone\n",
      "\u001b[?25hRequirement already satisfied: gymnasium==0.28.1 in /Users/mcrowley/opt/miniconda3/envs/rlgym/lib/python3.9/site-packages (from stable-baselines3==2.0.0a13) (0.28.1)\n",
      "Requirement already satisfied: numpy>=1.20 in /Users/mcrowley/opt/miniconda3/envs/rlgym/lib/python3.9/site-packages (from stable-baselines3==2.0.0a13) (1.24.3)\n",
      "Requirement already satisfied: torch>=1.11 in /Users/mcrowley/opt/miniconda3/envs/rlgym/lib/python3.9/site-packages (from stable-baselines3==2.0.0a13) (2.0.1)\n",
      "Requirement already satisfied: cloudpickle in /Users/mcrowley/opt/miniconda3/envs/rlgym/lib/python3.9/site-packages (from stable-baselines3==2.0.0a13) (2.2.1)\n",
      "Requirement already satisfied: pandas in /Users/mcrowley/opt/miniconda3/envs/rlgym/lib/python3.9/site-packages (from stable-baselines3==2.0.0a13) (2.0.2)\n",
      "Requirement already satisfied: matplotlib in /Users/mcrowley/opt/miniconda3/envs/rlgym/lib/python3.9/site-packages (from stable-baselines3==2.0.0a13) (3.7.1)\n",
      "Requirement already satisfied: jax-jumpy>=1.0.0 in /Users/mcrowley/opt/miniconda3/envs/rlgym/lib/python3.9/site-packages (from gymnasium==0.28.1->stable-baselines3==2.0.0a13) (1.0.0)\n",
      "Requirement already satisfied: typing-extensions>=4.3.0 in /Users/mcrowley/opt/miniconda3/envs/rlgym/lib/python3.9/site-packages (from gymnasium==0.28.1->stable-baselines3==2.0.0a13) (4.6.3)\n",
      "Requirement already satisfied: farama-notifications>=0.0.1 in /Users/mcrowley/opt/miniconda3/envs/rlgym/lib/python3.9/site-packages (from gymnasium==0.28.1->stable-baselines3==2.0.0a13) (0.0.4)\n",
      "Requirement already satisfied: importlib-metadata>=4.8.0 in /Users/mcrowley/opt/miniconda3/envs/rlgym/lib/python3.9/site-packages (from gymnasium==0.28.1->stable-baselines3==2.0.0a13) (6.0.0)\n",
      "Requirement already satisfied: filelock in /Users/mcrowley/opt/miniconda3/envs/rlgym/lib/python3.9/site-packages (from torch>=1.11->stable-baselines3==2.0.0a13) (3.12.2)\n",
      "Requirement already satisfied: sympy in /Users/mcrowley/opt/miniconda3/envs/rlgym/lib/python3.9/site-packages (from torch>=1.11->stable-baselines3==2.0.0a13) (1.12)\n",
      "Requirement already satisfied: networkx in /Users/mcrowley/opt/miniconda3/envs/rlgym/lib/python3.9/site-packages (from torch>=1.11->stable-baselines3==2.0.0a13) (3.1)\n",
      "Requirement already satisfied: jinja2 in /Users/mcrowley/opt/miniconda3/envs/rlgym/lib/python3.9/site-packages (from torch>=1.11->stable-baselines3==2.0.0a13) (3.1.2)\n",
      "Requirement already satisfied: contourpy>=1.0.1 in /Users/mcrowley/opt/miniconda3/envs/rlgym/lib/python3.9/site-packages (from matplotlib->stable-baselines3==2.0.0a13) (1.1.0)\n",
      "Requirement already satisfied: cycler>=0.10 in /Users/mcrowley/opt/miniconda3/envs/rlgym/lib/python3.9/site-packages (from matplotlib->stable-baselines3==2.0.0a13) (0.11.0)\n",
      "Requirement already satisfied: fonttools>=4.22.0 in /Users/mcrowley/opt/miniconda3/envs/rlgym/lib/python3.9/site-packages (from matplotlib->stable-baselines3==2.0.0a13) (4.40.0)\n",
      "Requirement already satisfied: kiwisolver>=1.0.1 in /Users/mcrowley/opt/miniconda3/envs/rlgym/lib/python3.9/site-packages (from matplotlib->stable-baselines3==2.0.0a13) (1.4.4)\n",
      "Requirement already satisfied: packaging>=20.0 in /Users/mcrowley/opt/miniconda3/envs/rlgym/lib/python3.9/site-packages (from matplotlib->stable-baselines3==2.0.0a13) (23.0)\n",
      "Requirement already satisfied: pillow>=6.2.0 in /Users/mcrowley/opt/miniconda3/envs/rlgym/lib/python3.9/site-packages (from matplotlib->stable-baselines3==2.0.0a13) (9.5.0)\n",
      "Requirement already satisfied: pyparsing>=2.3.1 in /Users/mcrowley/opt/miniconda3/envs/rlgym/lib/python3.9/site-packages (from matplotlib->stable-baselines3==2.0.0a13) (3.0.9)\n",
      "Requirement already satisfied: python-dateutil>=2.7 in /Users/mcrowley/opt/miniconda3/envs/rlgym/lib/python3.9/site-packages (from matplotlib->stable-baselines3==2.0.0a13) (2.8.2)\n",
      "Requirement already satisfied: importlib-resources>=3.2.0 in /Users/mcrowley/opt/miniconda3/envs/rlgym/lib/python3.9/site-packages (from matplotlib->stable-baselines3==2.0.0a13) (5.12.0)\n",
      "Requirement already satisfied: pytz>=2020.1 in /Users/mcrowley/opt/miniconda3/envs/rlgym/lib/python3.9/site-packages (from pandas->stable-baselines3==2.0.0a13) (2022.7)\n",
      "Requirement already satisfied: tzdata>=2022.1 in /Users/mcrowley/opt/miniconda3/envs/rlgym/lib/python3.9/site-packages (from pandas->stable-baselines3==2.0.0a13) (2023.3)\n",
      "Requirement already satisfied: zipp>=0.5 in /Users/mcrowley/opt/miniconda3/envs/rlgym/lib/python3.9/site-packages (from importlib-metadata>=4.8.0->gymnasium==0.28.1->stable-baselines3==2.0.0a13) (3.11.0)\n",
      "Requirement already satisfied: six>=1.5 in /Users/mcrowley/opt/miniconda3/envs/rlgym/lib/python3.9/site-packages (from python-dateutil>=2.7->matplotlib->stable-baselines3==2.0.0a13) (1.16.0)\n",
      "Requirement already satisfied: MarkupSafe>=2.0 in /Users/mcrowley/opt/miniconda3/envs/rlgym/lib/python3.9/site-packages (from jinja2->torch>=1.11->stable-baselines3==2.0.0a13) (2.1.1)\n",
      "Requirement already satisfied: mpmath>=0.19 in /Users/mcrowley/opt/miniconda3/envs/rlgym/lib/python3.9/site-packages (from sympy->torch>=1.11->stable-baselines3==2.0.0a13) (1.3.0)\n",
      "Building wheels for collected packages: stable-baselines3\n",
      "  Building wheel for stable-baselines3 (pyproject.toml) ... \u001b[?25ldone\n",
      "\u001b[?25h  Created wheel for stable-baselines3: filename=stable_baselines3-2.0.0a13-py3-none-any.whl size=178241 sha256=69085bea56c8b483af121dff0becfee5d458e9c79bc9d8c088306d166a7d6fac\n",
      "  Stored in directory: /private/var/folders/rl/xr8322ms0cl2k1dzqvb3p2980000gn/T/pip-ephem-wheel-cache-acgnhl4b/wheels/17/9c/c7/7e4f0c247d9fcdf3b7bdc5606f9a7f691507cc2a068d1509d2\n",
      "Successfully built stable-baselines3\n",
      "Installing collected packages: stable-baselines3\n",
      "Successfully installed stable-baselines3-2.0.0a13\n"
     ]
    },
    {
     "ename": "ModuleNotFoundError",
     "evalue": "No module named 'tensorboard'",
     "output_type": "error",
     "traceback": [
      "\u001b[0;31m---------------------------------------------------------------------------\u001b[0m",
      "\u001b[0;31mModuleNotFoundError\u001b[0m                       Traceback (most recent call last)",
      "Cell \u001b[0;32mIn[1], line 14\u001b[0m\n\u001b[1;32m     11\u001b[0m \u001b[38;5;28;01mfrom\u001b[39;00m \u001b[38;5;21;01mstable_baselines3\u001b[39;00m \u001b[38;5;28;01mimport\u001b[39;00m DQN\n\u001b[1;32m     13\u001b[0m \u001b[38;5;66;03m# Visualization utils\u001b[39;00m\n\u001b[0;32m---> 14\u001b[0m \u001b[43mget_ipython\u001b[49m\u001b[43m(\u001b[49m\u001b[43m)\u001b[49m\u001b[38;5;241;43m.\u001b[39;49m\u001b[43mrun_line_magic\u001b[49m\u001b[43m(\u001b[49m\u001b[38;5;124;43m'\u001b[39;49m\u001b[38;5;124;43mload_ext\u001b[39;49m\u001b[38;5;124;43m'\u001b[39;49m\u001b[43m,\u001b[49m\u001b[43m \u001b[49m\u001b[38;5;124;43m'\u001b[39;49m\u001b[38;5;124;43mtensorboard\u001b[39;49m\u001b[38;5;124;43m'\u001b[39;49m\u001b[43m)\u001b[49m\n\u001b[1;32m     15\u001b[0m \u001b[38;5;28;01mimport\u001b[39;00m \u001b[38;5;21;01msys\u001b[39;00m\n\u001b[1;32m     16\u001b[0m \u001b[38;5;28;01mfrom\u001b[39;00m \u001b[38;5;21;01mtqdm\u001b[39;00m\u001b[38;5;21;01m.\u001b[39;00m\u001b[38;5;21;01mnotebook\u001b[39;00m \u001b[38;5;28;01mimport\u001b[39;00m trange\n",
      "File \u001b[0;32m~/opt/miniconda3/envs/rlgym/lib/python3.9/site-packages/IPython/core/interactiveshell.py:2414\u001b[0m, in \u001b[0;36mInteractiveShell.run_line_magic\u001b[0;34m(self, magic_name, line, _stack_depth)\u001b[0m\n\u001b[1;32m   2412\u001b[0m     kwargs[\u001b[38;5;124m'\u001b[39m\u001b[38;5;124mlocal_ns\u001b[39m\u001b[38;5;124m'\u001b[39m] \u001b[38;5;241m=\u001b[39m \u001b[38;5;28mself\u001b[39m\u001b[38;5;241m.\u001b[39mget_local_scope(stack_depth)\n\u001b[1;32m   2413\u001b[0m \u001b[38;5;28;01mwith\u001b[39;00m \u001b[38;5;28mself\u001b[39m\u001b[38;5;241m.\u001b[39mbuiltin_trap:\n\u001b[0;32m-> 2414\u001b[0m     result \u001b[38;5;241m=\u001b[39m \u001b[43mfn\u001b[49m\u001b[43m(\u001b[49m\u001b[38;5;241;43m*\u001b[39;49m\u001b[43margs\u001b[49m\u001b[43m,\u001b[49m\u001b[43m \u001b[49m\u001b[38;5;241;43m*\u001b[39;49m\u001b[38;5;241;43m*\u001b[39;49m\u001b[43mkwargs\u001b[49m\u001b[43m)\u001b[49m\n\u001b[1;32m   2416\u001b[0m \u001b[38;5;66;03m# The code below prevents the output from being displayed\u001b[39;00m\n\u001b[1;32m   2417\u001b[0m \u001b[38;5;66;03m# when using magics with decodator @output_can_be_silenced\u001b[39;00m\n\u001b[1;32m   2418\u001b[0m \u001b[38;5;66;03m# when the last Python token in the expression is a ';'.\u001b[39;00m\n\u001b[1;32m   2419\u001b[0m \u001b[38;5;28;01mif\u001b[39;00m \u001b[38;5;28mgetattr\u001b[39m(fn, magic\u001b[38;5;241m.\u001b[39mMAGIC_OUTPUT_CAN_BE_SILENCED, \u001b[38;5;28;01mFalse\u001b[39;00m):\n",
      "File \u001b[0;32m~/opt/miniconda3/envs/rlgym/lib/python3.9/site-packages/IPython/core/magics/extension.py:33\u001b[0m, in \u001b[0;36mExtensionMagics.load_ext\u001b[0;34m(self, module_str)\u001b[0m\n\u001b[1;32m     31\u001b[0m \u001b[38;5;28;01mif\u001b[39;00m \u001b[38;5;129;01mnot\u001b[39;00m module_str:\n\u001b[1;32m     32\u001b[0m     \u001b[38;5;28;01mraise\u001b[39;00m UsageError(\u001b[38;5;124m'\u001b[39m\u001b[38;5;124mMissing module name.\u001b[39m\u001b[38;5;124m'\u001b[39m)\n\u001b[0;32m---> 33\u001b[0m res \u001b[38;5;241m=\u001b[39m \u001b[38;5;28;43mself\u001b[39;49m\u001b[38;5;241;43m.\u001b[39;49m\u001b[43mshell\u001b[49m\u001b[38;5;241;43m.\u001b[39;49m\u001b[43mextension_manager\u001b[49m\u001b[38;5;241;43m.\u001b[39;49m\u001b[43mload_extension\u001b[49m\u001b[43m(\u001b[49m\u001b[43mmodule_str\u001b[49m\u001b[43m)\u001b[49m\n\u001b[1;32m     35\u001b[0m \u001b[38;5;28;01mif\u001b[39;00m res \u001b[38;5;241m==\u001b[39m \u001b[38;5;124m'\u001b[39m\u001b[38;5;124malready loaded\u001b[39m\u001b[38;5;124m'\u001b[39m:\n\u001b[1;32m     36\u001b[0m     \u001b[38;5;28mprint\u001b[39m(\u001b[38;5;124m\"\u001b[39m\u001b[38;5;124mThe \u001b[39m\u001b[38;5;132;01m%s\u001b[39;00m\u001b[38;5;124m extension is already loaded. To reload it, use:\u001b[39m\u001b[38;5;124m\"\u001b[39m \u001b[38;5;241m%\u001b[39m module_str)\n",
      "File \u001b[0;32m~/opt/miniconda3/envs/rlgym/lib/python3.9/site-packages/IPython/core/extensions.py:76\u001b[0m, in \u001b[0;36mExtensionManager.load_extension\u001b[0;34m(self, module_str)\u001b[0m\n\u001b[1;32m     69\u001b[0m \u001b[38;5;250m\u001b[39m\u001b[38;5;124;03m\"\"\"Load an IPython extension by its module name.\u001b[39;00m\n\u001b[1;32m     70\u001b[0m \n\u001b[1;32m     71\u001b[0m \u001b[38;5;124;03mReturns the string \"already loaded\" if the extension is already loaded,\u001b[39;00m\n\u001b[1;32m     72\u001b[0m \u001b[38;5;124;03m\"no load function\" if the module doesn't have a load_ipython_extension\u001b[39;00m\n\u001b[1;32m     73\u001b[0m \u001b[38;5;124;03mfunction, or None if it succeeded.\u001b[39;00m\n\u001b[1;32m     74\u001b[0m \u001b[38;5;124;03m\"\"\"\u001b[39;00m\n\u001b[1;32m     75\u001b[0m \u001b[38;5;28;01mtry\u001b[39;00m:\n\u001b[0;32m---> 76\u001b[0m     \u001b[38;5;28;01mreturn\u001b[39;00m \u001b[38;5;28;43mself\u001b[39;49m\u001b[38;5;241;43m.\u001b[39;49m\u001b[43m_load_extension\u001b[49m\u001b[43m(\u001b[49m\u001b[43mmodule_str\u001b[49m\u001b[43m)\u001b[49m\n\u001b[1;32m     77\u001b[0m \u001b[38;5;28;01mexcept\u001b[39;00m \u001b[38;5;167;01mModuleNotFoundError\u001b[39;00m:\n\u001b[1;32m     78\u001b[0m     \u001b[38;5;28;01mif\u001b[39;00m module_str \u001b[38;5;129;01min\u001b[39;00m BUILTINS_EXTS:\n",
      "File \u001b[0;32m~/opt/miniconda3/envs/rlgym/lib/python3.9/site-packages/IPython/core/extensions.py:91\u001b[0m, in \u001b[0;36mExtensionManager._load_extension\u001b[0;34m(self, module_str)\u001b[0m\n\u001b[1;32m     89\u001b[0m \u001b[38;5;28;01mwith\u001b[39;00m \u001b[38;5;28mself\u001b[39m\u001b[38;5;241m.\u001b[39mshell\u001b[38;5;241m.\u001b[39mbuiltin_trap:\n\u001b[1;32m     90\u001b[0m     \u001b[38;5;28;01mif\u001b[39;00m module_str \u001b[38;5;129;01mnot\u001b[39;00m \u001b[38;5;129;01min\u001b[39;00m sys\u001b[38;5;241m.\u001b[39mmodules:\n\u001b[0;32m---> 91\u001b[0m         mod \u001b[38;5;241m=\u001b[39m \u001b[43mimport_module\u001b[49m\u001b[43m(\u001b[49m\u001b[43mmodule_str\u001b[49m\u001b[43m)\u001b[49m\n\u001b[1;32m     92\u001b[0m     mod \u001b[38;5;241m=\u001b[39m sys\u001b[38;5;241m.\u001b[39mmodules[module_str]\n\u001b[1;32m     93\u001b[0m     \u001b[38;5;28;01mif\u001b[39;00m \u001b[38;5;28mself\u001b[39m\u001b[38;5;241m.\u001b[39m_call_load_ipython_extension(mod):\n",
      "File \u001b[0;32m~/opt/miniconda3/envs/rlgym/lib/python3.9/importlib/__init__.py:127\u001b[0m, in \u001b[0;36mimport_module\u001b[0;34m(name, package)\u001b[0m\n\u001b[1;32m    125\u001b[0m             \u001b[38;5;28;01mbreak\u001b[39;00m\n\u001b[1;32m    126\u001b[0m         level \u001b[38;5;241m+\u001b[39m\u001b[38;5;241m=\u001b[39m \u001b[38;5;241m1\u001b[39m\n\u001b[0;32m--> 127\u001b[0m \u001b[38;5;28;01mreturn\u001b[39;00m \u001b[43m_bootstrap\u001b[49m\u001b[38;5;241;43m.\u001b[39;49m\u001b[43m_gcd_import\u001b[49m\u001b[43m(\u001b[49m\u001b[43mname\u001b[49m\u001b[43m[\u001b[49m\u001b[43mlevel\u001b[49m\u001b[43m:\u001b[49m\u001b[43m]\u001b[49m\u001b[43m,\u001b[49m\u001b[43m \u001b[49m\u001b[43mpackage\u001b[49m\u001b[43m,\u001b[49m\u001b[43m \u001b[49m\u001b[43mlevel\u001b[49m\u001b[43m)\u001b[49m\n",
      "File \u001b[0;32m<frozen importlib._bootstrap>:1030\u001b[0m, in \u001b[0;36m_gcd_import\u001b[0;34m(name, package, level)\u001b[0m\n",
      "File \u001b[0;32m<frozen importlib._bootstrap>:1007\u001b[0m, in \u001b[0;36m_find_and_load\u001b[0;34m(name, import_)\u001b[0m\n",
      "File \u001b[0;32m<frozen importlib._bootstrap>:984\u001b[0m, in \u001b[0;36m_find_and_load_unlocked\u001b[0;34m(name, import_)\u001b[0m\n",
      "\u001b[0;31mModuleNotFoundError\u001b[0m: No module named 'tensorboard'"
     ]
    }
   ],
   "source": [
    "# Install environment and agent\n",
    "!pip install highway-env\n",
    "# TODO: we use the bleeding edge version because the current stable version does not support the latest gym>=0.21 versions. Revert back to stable at the next SB3 release.\n",
    "!pip install git+https://github.com/DLR-RM/stable-baselines3\n",
    "\n",
    "# Environment\n",
    "import gymnasium as gym\n",
    "import highway_env\n",
    "\n",
    "# Agent\n",
    "from stable_baselines3 import DQN\n",
    "\n",
    "# Visualization utils\n",
    "%load_ext tensorboard\n",
    "import sys\n",
    "from tqdm.notebook import trange\n",
    "!pip install tensorboardx gym pyvirtualdisplay\n",
    "!apt-get install -y xvfb python-opengl ffmpeg\n",
    "!git clone https://github.com/eleurent/highway-env.git 2> /dev/null\n",
    "sys.path.insert(0, '/content/highway-env/scripts/')\n",
    "from utils import record_videos, show_videos"
   ]
  },
  {
   "cell_type": "markdown",
   "metadata": {
    "id": "_wACJRDjqP-f",
    "pycharm": {
     "name": "#%% md\n"
    }
   },
   "source": [
    "## Training\n",
    "Run tensorboard locally to visualize training."
   ]
  },
  {
   "cell_type": "code",
   "execution_count": null,
   "metadata": {
    "id": "ZSRTtNNzE5nL",
    "pycharm": {
     "name": "#%% \n"
    }
   },
   "outputs": [],
   "source": [
    "%tensorboard --logdir \"highway_dqn\""
   ]
  },
  {
   "cell_type": "code",
   "execution_count": null,
   "metadata": {
    "id": "Y5TOvonYqP-g",
    "pycharm": {
     "name": "#%% \n"
    }
   },
   "outputs": [],
   "source": [
    "model = DQN('MlpPolicy', 'highway-fast-v0',\n",
    "                policy_kwargs=dict(net_arch=[256, 256]),\n",
    "                learning_rate=5e-4,\n",
    "                buffer_size=15000,\n",
    "                learning_starts=200,\n",
    "                batch_size=32,\n",
    "                gamma=0.8,\n",
    "                train_freq=1,\n",
    "                gradient_steps=1,\n",
    "                target_update_interval=50,\n",
    "                exploration_fraction=0.7,\n",
    "                verbose=1,\n",
    "                tensorboard_log='highway_dqn/')\n",
    "model.learn(int(2e4))\n"
   ]
  },
  {
   "cell_type": "markdown",
   "metadata": {
    "id": "n2Bu_Pqop0E7"
   },
   "source": [
    "## Testing\n",
    "\n",
    "Visualize a few episodes"
   ]
  },
  {
   "cell_type": "code",
   "execution_count": null,
   "metadata": {
    "id": "xOcOP7Of18T2",
    "pycharm": {
     "name": "#%%\n"
    }
   },
   "outputs": [],
   "source": [
    "env = gym.make('highway-fast-v0', render_mode='rgb_array')\n",
    "env = record_videos(env)\n",
    "for episode in trange(3, desc='Test episodes'):\n",
    "    (obs, info), done = env.reset(), False\n",
    "    while not done:\n",
    "        action, _ = model.predict(obs, deterministic=True)\n",
    "        obs, reward, done, truncated, info = env.step(int(action))\n",
    "env.close()\n",
    "show_videos()"
   ]
  }
 ],
 "metadata": {
  "accelerator": "GPU",
  "colab": {
   "name": "sb3_highway_dqn.ipynb",
   "provenance": []
  },
  "kernelspec": {
   "display_name": "Python 3 (ipykernel)",
   "language": "python",
   "name": "python3"
  },
  "language_info": {
   "codemirror_mode": {
    "name": "ipython",
    "version": 3
   },
   "file_extension": ".py",
   "mimetype": "text/x-python",
   "name": "python",
   "nbconvert_exporter": "python",
   "pygments_lexer": "ipython3",
   "version": "3.9.16"
  },
  "pycharm": {
   "stem_cell": {
    "cell_type": "raw",
    "metadata": {
     "collapsed": false
    },
    "source": []
   }
  }
 },
 "nbformat": 4,
 "nbformat_minor": 4
}
